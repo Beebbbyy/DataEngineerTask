{
 "cells": [
  {
   "cell_type": "code",
   "execution_count": 12,
   "id": "ac23bce8-9988-4b37-b515-bb32e7341ade",
   "metadata": {},
   "outputs": [
    {
     "data": {
      "application/vnd.jupyter.widget-view+json": {
       "model_id": "",
       "version_major": 2,
       "version_minor": 0
      },
      "text/plain": [
       "FloatProgress(value=0.0, bar_style='info', description='Progress:', layout=Layout(height='25px', width='50%'),…"
      ]
     },
     "metadata": {},
     "output_type": "display_data"
    }
   ],
   "source": [
    "from pyspark.sql import SparkSession\n",
    "from pyspark.sql.types import StructType, StructField, StringType\n",
    "import xml.etree.ElementTree as ET\n",
    "import hashlib\n",
    "import os"
   ]
  },
  {
   "cell_type": "code",
   "execution_count": 13,
   "id": "6ac622f6-e8d2-4837-95f9-7870bd516fc6",
   "metadata": {},
   "outputs": [
    {
     "data": {
      "application/vnd.jupyter.widget-view+json": {
       "model_id": "",
       "version_major": 2,
       "version_minor": 0
      },
      "text/plain": [
       "FloatProgress(value=0.0, bar_style='info', description='Progress:', layout=Layout(height='25px', width='50%'),…"
      ]
     },
     "metadata": {},
     "output_type": "display_data"
    }
   ],
   "source": [
    "def xml_to_df_table_pers_auto_policy_mod_rq(xml_string):\n",
    "    root = ET.fromstring(xml_string)\n",
    "    \n",
    "    requ_id = root.find(\".//RequId\").text\n",
    "    transaction_request_dt = root.find(\".//TransactionRequestDt\").text\n",
    "    transaction_effective_dt = root.find(\".//TransactionEffectiveDt\").text\n",
    "    \n",
    "    pk = hashlib.sha256(ET.tostring(root)).hexdigest()\n",
    "    \n",
    "    schema = StructType([\n",
    "        StructField(\"PK_PersAutoPolicyModRq\", StringType(), True),\n",
    "        StructField(\"RequId\", StringType(), True),\n",
    "        StructField(\"TransactionRequestDt\", StringType(), True),\n",
    "        StructField(\"TransactionEffectiveDt\", StringType(), True)\n",
    "    ])\n",
    "    \n",
    "    data = [(pk, requ_id, transaction_request_dt, transaction_effective_dt)]\n",
    "    return spark.createDataFrame(data, schema), pk"
   ]
  },
  {
   "cell_type": "code",
   "execution_count": 14,
   "id": "b96ca3a5-fb5f-4b75-a2c1-1a87686bef76",
   "metadata": {},
   "outputs": [
    {
     "data": {
      "application/vnd.jupyter.widget-view+json": {
       "model_id": "",
       "version_major": 2,
       "version_minor": 0
      },
      "text/plain": [
       "FloatProgress(value=0.0, bar_style='info', description='Progress:', layout=Layout(height='25px', width='50%'),…"
      ]
     },
     "metadata": {},
     "output_type": "display_data"
    }
   ],
   "source": [
    "def xml_to_df_table_pers_auto_policy_mod_rq_producer(xml_string, fk_pers_auto_policy_mod_rq):\n",
    "    root = ET.fromstring(xml_string)\n",
    "    \n",
    "    producer_id = root.find(\".//Producer\").get('id')\n",
    "    \n",
    "    pk = hashlib.sha256(ET.tostring(root.find(\".//Producer\"))).hexdigest()\n",
    "    \n",
    "    schema = StructType([\n",
    "        StructField(\"FK_PersAutoPolicyModRq\", StringType(), True),\n",
    "        StructField(\"PK_PersAutoPolicyModRq_Producer\", StringType(), True),\n",
    "        StructField(\"Producer_id\", StringType(), True)\n",
    "    ])\n",
    "    \n",
    "    data = [(fk_pers_auto_policy_mod_rq, pk, producer_id)]\n",
    "    return spark.createDataFrame(data, schema), pk"
   ]
  },
  {
   "cell_type": "code",
   "execution_count": 15,
   "id": "a5b521cc-2071-4b36-ad0a-56041b8d3c81",
   "metadata": {},
   "outputs": [
    {
     "data": {
      "application/vnd.jupyter.widget-view+json": {
       "model_id": "",
       "version_major": 2,
       "version_minor": 0
      },
      "text/plain": [
       "FloatProgress(value=0.0, bar_style='info', description='Progress:', layout=Layout(height='25px', width='50%'),…"
      ]
     },
     "metadata": {},
     "output_type": "display_data"
    }
   ],
   "source": [
    "def xml_to_df_table_pers_auto_policy_mod_rq_producer_itemidinfo(xml_string, fk_pers_auto_policy_mod_rq, fk_pers_auto_policy_mod_rq_producer):\n",
    "    root = ET.fromstring(xml_string)\n",
    "    \n",
    "    # Extract ItemIdInfo fields\n",
    "    itemidinfo_id = root.find(\".//ItemIdInfo\").get('id')\n",
    "    agency_id = root.find(\".//AgencyId\").text\n",
    "    insurer_id = root.find(\".//InsurerId\").text\n",
    "    \n",
    "    # Create a unique primary key by hashing the ItemIdInfo structure\n",
    "    pk = hashlib.sha256(ET.tostring(root.find(\".//ItemIdInfo\"))).hexdigest()\n",
    "    \n",
    "    # Schema for ItemIdInfo table\n",
    "    schema = StructType([\n",
    "        StructField(\"FK_PersAutoPolicyModRq\", StringType(), True),\n",
    "        StructField(\"FK_PersAutoPolicyModRq_Producer\", StringType(), True),\n",
    "        StructField(\"PK_PersAutoPolicyModRq_Producer_ItemIdInfo\", StringType(), True),\n",
    "        StructField(\"ItemIdInfo_id\", StringType(), True),\n",
    "        StructField(\"AgencyId\", StringType(), True),\n",
    "        StructField(\"InsurerId\", StringType(), True)\n",
    "    ])\n",
    "    \n",
    "    data = [(fk_pers_auto_policy_mod_rq, fk_pers_auto_policy_mod_rq_producer, pk, itemidinfo_id, agency_id, insurer_id)]\n",
    "    return spark.createDataFrame(data, schema)"
   ]
  },
  {
   "cell_type": "code",
   "execution_count": 16,
   "id": "43d8edd5-f7de-48ec-ac5a-eddca816969c",
   "metadata": {},
   "outputs": [
    {
     "data": {
      "application/vnd.jupyter.widget-view+json": {
       "model_id": "",
       "version_major": 2,
       "version_minor": 0
      },
      "text/plain": [
       "FloatProgress(value=0.0, bar_style='info', description='Progress:', layout=Layout(height='25px', width='50%'),…"
      ]
     },
     "metadata": {},
     "output_type": "display_data"
    },
    {
     "name": "stdout",
     "output_type": "stream",
     "text": [
      "+----------------------+--------------------+--------------------+----------------------+\n",
      "|PK_PersAutoPolicyModRq|              RequId|TransactionRequestDt|TransactionEffectiveDt|\n",
      "+----------------------+--------------------+--------------------+----------------------+\n",
      "|  29cdd4318090c742e...|AAAAAA-BBBBBB-CCC...|          2024-07-16|            2024-07-18|\n",
      "+----------------------+--------------------+--------------------+----------------------+\n",
      "\n",
      "+----------------------+-------------------------------+-----------+\n",
      "|FK_PersAutoPolicyModRq|PK_PersAutoPolicyModRq_Producer|Producer_id|\n",
      "+----------------------+-------------------------------+-----------+\n",
      "|  29cdd4318090c742e...|           11265e3b017ee6991...|         N1|\n",
      "+----------------------+-------------------------------+-----------+\n",
      "\n",
      "+----------------------+-------------------------------+------------------------------------------+-------------+--------+---------+\n",
      "|FK_PersAutoPolicyModRq|FK_PersAutoPolicyModRq_Producer|PK_PersAutoPolicyModRq_Producer_ItemIdInfo|ItemIdInfo_id|AgencyId|InsurerId|\n",
      "+----------------------+-------------------------------+------------------------------------------+-------------+--------+---------+\n",
      "|  29cdd4318090c742e...|           11265e3b017ee6991...|                      c79f7355863cbbebf...|           N2|     077|       05|\n",
      "+----------------------+-------------------------------+------------------------------------------+-------------+--------+---------+"
     ]
    }
   ],
   "source": [
    "xml_file_path = \"jupyter_workspace/DataEngineer_Test/Source File/sample_data.xml\"\n",
    "\n",
    "if os.path.exists(xml_file_path):\n",
    "    with open(xml_file_path, 'r') as file:\n",
    "        xml_data = file.read()\n",
    "\n",
    "    df_pers_auto_policy_mod_rq, pk_pers_auto_policy_mod_rq = xml_to_df_table_pers_auto_policy_mod_rq(xml_data)\n",
    "    df_pers_auto_policy_mod_rq.show()\n",
    "\n",
    "    df_pers_auto_policy_mod_rq_producer, pk_pers_auto_policy_mod_rq_producer = xml_to_df_table_pers_auto_policy_mod_rq_producer(xml_data, pk_pers_auto_policy_mod_rq)\n",
    "    df_pers_auto_policy_mod_rq_producer.show()\n",
    "\n",
    "    df_pers_auto_policy_mod_rq_producer_itemidinfo = xml_to_df_table_pers_auto_policy_mod_rq_producer_itemidinfo(xml_data, pk_pers_auto_policy_mod_rq, pk_pers_auto_policy_mod_rq_producer)\n",
    "    df_pers_auto_policy_mod_rq_producer_itemidinfo.show()\n",
    "    \n",
    "else:\n",
    "    print(f\"File not found: {xml_file_path}\")"
   ]
  },
  {
   "cell_type": "code",
   "execution_count": 17,
   "id": "8b0e7ec4-9cd3-433f-85ef-ac5a8f4df7d2",
   "metadata": {},
   "outputs": [
    {
     "data": {
      "application/vnd.jupyter.widget-view+json": {
       "model_id": "",
       "version_major": 2,
       "version_minor": 0
      },
      "text/plain": [
       "FloatProgress(value=0.0, bar_style='info', description='Progress:', layout=Layout(height='25px', width='50%'),…"
      ]
     },
     "metadata": {},
     "output_type": "display_data"
    },
    {
     "name": "stdout",
     "output_type": "stream",
     "text": [
      "DataFrames have been saved as Snappy-compressed Parquet files."
     ]
    }
   ],
   "source": [
    "output_dir = \"jupyter_workspace/DataEngineer_Test/Target File/\"\n",
    "\n",
    "os.makedirs(output_dir, exist_ok=True)\n",
    "\n",
    "\n",
    "df_pers_auto_policy_mod_rq.write.mode('overwrite').parquet(f\"{output_dir}/TABLE_PersAutoPolicyModRq\", compression='snappy')\n",
    "df_pers_auto_policy_mod_rq_producer.write.mode('overwrite').parquet(f\"{output_dir}/TABLE_PersAutoPolicyModRq_Producer\", compression='snappy')\n",
    "df_pers_auto_policy_mod_rq_producer_itemidinfo.write.mode('overwrite').parquet(f\"{output_dir}/TABLE_PersAutoPolicyModRq_Producer_ItemIdInfo\", compression='snappy')\n",
    "\n",
    "print(\"DataFrames have been saved as Snappy-compressed Parquet files.\")\n"
   ]
  },
  {
   "cell_type": "code",
   "execution_count": null,
   "id": "595284f1-e9fb-4ff6-a781-96ea82e94baa",
   "metadata": {},
   "outputs": [],
   "source": []
  }
 ],
 "metadata": {
  "kernelspec": {
   "display_name": "PySpark",
   "language": "python",
   "name": "pysparkkernel"
  },
  "language_info": {
   "codemirror_mode": {
    "name": "python",
    "version": 3
   },
   "file_extension": ".py",
   "mimetype": "text/x-python",
   "name": "pyspark",
   "pygments_lexer": "python3"
  }
 },
 "nbformat": 4,
 "nbformat_minor": 5
}
